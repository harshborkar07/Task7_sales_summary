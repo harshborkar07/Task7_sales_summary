{
  "nbformat": 4,
  "nbformat_minor": 0,
  "metadata": {
    "colab": {
      "provenance": [],
      "authorship_tag": "ABX9TyOrdOtkqdQv8St4OJkOHQmq",
      "include_colab_link": true
    },
    "kernelspec": {
      "name": "python3",
      "display_name": "Python 3"
    },
    "language_info": {
      "name": "python"
    }
  },
  "cells": [
    {
      "cell_type": "markdown",
      "metadata": {
        "id": "view-in-github",
        "colab_type": "text"
      },
      "source": [
        "<a href=\"https://colab.research.google.com/github/harshborkar07/Task7_sales_summary/blob/main/Task7_Sales_Summary.ipynb\" target=\"_parent\"><img src=\"https://colab.research.google.com/assets/colab-badge.svg\" alt=\"Open In Colab\"/></a>"
      ]
    },
    {
      "cell_type": "code",
      "execution_count": 5,
      "metadata": {
        "id": "yh8UcS6gsEp6"
      },
      "outputs": [],
      "source": [
        "import sqlite3\n",
        "import pandas as pd\n",
        "import matplotlib.pyplot as plt\n"
      ]
    },
    {
      "cell_type": "markdown",
      "source": [
        "**Creating Database**"
      ],
      "metadata": {
        "id": "vWvUZpIosN27"
      }
    },
    {
      "cell_type": "code",
      "source": [
        "import sqlite3\n",
        "\n",
        "# Create a database file in Colab\n",
        "conn = sqlite3.connect(\"sales_data.db\")\n",
        "cursor = conn.cursor()\n",
        "\n",
        "# Create sales table\n",
        "cursor.execute('''\n",
        "CREATE TABLE IF NOT EXISTS sales (\n",
        "    id INTEGER PRIMARY KEY AUTOINCREMENT,\n",
        "    product TEXT,\n",
        "    quantity INTEGER,\n",
        "    price REAL\n",
        ")\n",
        "''')\n",
        "\n",
        "# Insert sample sales data\n",
        "sample_data = [\n",
        "    (\"Laptop\", 5, 70000),\n",
        "    (\"Laptop\", 3, 68000),\n",
        "    (\"Phone\", 10, 30000),\n",
        "    (\"Phone\", 7, 32000),\n",
        "    (\"Headphones\", 15, 2000),\n",
        "    (\"Headphones\", 12, 1800),\n",
        "    (\"Tablet\", 4, 25000)\n",
        "]\n",
        "\n",
        "cursor.executemany(\"INSERT INTO sales (product, quantity, price) VALUES (?, ?, ?)\", sample_data)\n",
        "\n",
        "conn.commit()\n",
        "conn.close()\n"
      ],
      "metadata": {
        "id": "wPCS1tXfsUkK"
      },
      "execution_count": 6,
      "outputs": []
    },
    {
      "cell_type": "markdown",
      "source": [
        "**Query Data**"
      ],
      "metadata": {
        "id": "tPbFQGXztNvx"
      }
    },
    {
      "cell_type": "code",
      "source": [
        "import sqlite3\n",
        "import pandas as pd\n",
        "\n",
        "# Connect to DB\n",
        "conn = sqlite3.connect(\"sales_data.db\")\n",
        "\n",
        "# SQL query: get total quantity + revenue per product\n",
        "query = \"\"\"\n",
        "SELECT product, SUM(quantity) AS total_qty, SUM(quantity * price) AS revenue\n",
        "FROM sales\n",
        "GROUP BY product\n",
        "\"\"\"\n",
        "\n",
        "# Load into pandas DataFrame\n",
        "df = pd.read_sql_query(query, conn)\n",
        "print(\"Sales Summary:\\n\", df)\n",
        "\n",
        "conn.close()\n"
      ],
      "metadata": {
        "colab": {
          "base_uri": "https://localhost:8080/"
        },
        "id": "OV_knqi7tRbt",
        "outputId": "0874921b-cb04-42a1-caff-aa265c4671bd"
      },
      "execution_count": 7,
      "outputs": [
        {
          "output_type": "stream",
          "name": "stdout",
          "text": [
            "Sales Summary:\n",
            "       product  total_qty    revenue\n",
            "0  Headphones         54   103200.0\n",
            "1      Laptop         16  1108000.0\n",
            "2       Phone         34  1048000.0\n",
            "3      Tablet          8   200000.0\n"
          ]
        }
      ]
    },
    {
      "cell_type": "markdown",
      "source": [
        "**Chart Plot**"
      ],
      "metadata": {
        "id": "c6KO6MgFtdsY"
      }
    },
    {
      "cell_type": "code",
      "source": [
        "import matplotlib.pyplot as plt\n",
        "\n",
        "# Plot bar chart\n",
        "df.plot(kind=\"bar\", x=\"product\", y=\"revenue\", legend=False, color=\"skyblue\")\n",
        "plt.title(\"Revenue by Product\")\n",
        "plt.ylabel(\"Revenue (₹)\")\n",
        "plt.xlabel(\"Product\")\n",
        "plt.xticks(rotation=45)\n",
        "plt.tight_layout()\n",
        "plt.show()\n"
      ],
      "metadata": {
        "colab": {
          "base_uri": "https://localhost:8080/",
          "height": 487
        },
        "id": "wF-BqcCEtg7I",
        "outputId": "a61c3f66-3bf2-4b38-8c08-1883a0597b25"
      },
      "execution_count": 8,
      "outputs": [
        {
          "output_type": "display_data",
          "data": {
            "text/plain": [
              "<Figure size 640x480 with 1 Axes>"
            ],
            "image/png": "[encoded data removed]"
          },
          "metadata": {}
        }
      ]
    },
    {
      "cell_type": "code",
      "source": [],
      "metadata": {
        "id": "HRjGglzCtiXK"
      },
      "execution_count": 8,
      "outputs": []
    }
  ]
}